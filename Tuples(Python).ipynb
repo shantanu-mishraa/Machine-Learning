{
 "cells": [
  {
   "cell_type": "markdown",
   "id": "fa829069",
   "metadata": {},
   "source": [
    "## Tuples"
   ]
  },
  {
   "cell_type": "markdown",
   "id": "d4e178e0",
   "metadata": {},
   "source": [
    "Tuple is a collection which is ordered and unchangeable. Allows duplicate members.\n",
    "\n",
    "Not Mutable,  \n",
    "Allows Duplicates Elements,  \n",
    "Indexing is there."
   ]
  },
  {
   "cell_type": "code",
   "execution_count": 1,
   "id": "37dd5816",
   "metadata": {},
   "outputs": [],
   "source": [
    "# Creating empty tuple\n",
    "\n",
    "my_tuple=tuple()"
   ]
  },
  {
   "cell_type": "code",
   "execution_count": 2,
   "id": "24ae4bf6",
   "metadata": {},
   "outputs": [
    {
     "data": {
      "text/plain": [
       "tuple"
      ]
     },
     "execution_count": 2,
     "metadata": {},
     "output_type": "execute_result"
    }
   ],
   "source": [
    "type(my_tuple)"
   ]
  },
  {
   "cell_type": "code",
   "execution_count": 3,
   "id": "2f75c774",
   "metadata": {},
   "outputs": [
    {
     "name": "stdout",
     "output_type": "stream",
     "text": [
      "<class 'tuple'>\n"
     ]
    }
   ],
   "source": [
    "my_tuple=()\n",
    "print(type(my_tuple))"
   ]
  },
  {
   "cell_type": "code",
   "execution_count": 4,
   "id": "e59d7076",
   "metadata": {},
   "outputs": [],
   "source": [
    "my_tuple=(\"Shantanu\",\"Kumar\",\"Mishra\")"
   ]
  },
  {
   "cell_type": "code",
   "execution_count": 5,
   "id": "95095714",
   "metadata": {},
   "outputs": [
    {
     "data": {
      "text/plain": [
       "'Shantanu'"
      ]
     },
     "execution_count": 5,
     "metadata": {},
     "output_type": "execute_result"
    }
   ],
   "source": [
    "my_tuple[0]"
   ]
  },
  {
   "cell_type": "code",
   "execution_count": 6,
   "id": "8b6bb8a5",
   "metadata": {},
   "outputs": [
    {
     "ename": "TypeError",
     "evalue": "'tuple' object does not support item assignment",
     "output_type": "error",
     "traceback": [
      "\u001b[1;31m---------------------------------------------------------------------------\u001b[0m",
      "\u001b[1;31mTypeError\u001b[0m                                 Traceback (most recent call last)",
      "\u001b[1;32m~\\AppData\\Local\\Temp\\ipykernel_10032\\442033449.py\u001b[0m in \u001b[0;36m<module>\u001b[1;34m\u001b[0m\n\u001b[1;32m----> 1\u001b[1;33m \u001b[0mmy_tuple\u001b[0m\u001b[1;33m[\u001b[0m\u001b[1;36m1\u001b[0m\u001b[1;33m]\u001b[0m\u001b[1;33m=\u001b[0m\u001b[1;34m\"Hello\"\u001b[0m        \u001b[1;31m# It is not mutable\u001b[0m\u001b[1;33m\u001b[0m\u001b[1;33m\u001b[0m\u001b[0m\n\u001b[0m",
      "\u001b[1;31mTypeError\u001b[0m: 'tuple' object does not support item assignment"
     ]
    }
   ],
   "source": [
    "my_tuple[1]=\"Hello\"        # It is not mutable"
   ]
  },
  {
   "cell_type": "code",
   "execution_count": 7,
   "id": "b7cacde2",
   "metadata": {},
   "outputs": [],
   "source": [
    "my_tuple=(\"hello\",\"Python\",\"Programming\",\"camp\")"
   ]
  },
  {
   "cell_type": "code",
   "execution_count": 8,
   "id": "934d7d41",
   "metadata": {},
   "outputs": [
    {
     "name": "stdout",
     "output_type": "stream",
     "text": [
      "('hello', 'Python', 'Programming', 'camp')\n"
     ]
    }
   ],
   "source": [
    "print(my_tuple)           # whole tuple can be changed"
   ]
  },
  {
   "cell_type": "code",
   "execution_count": 9,
   "id": "f1710c2e",
   "metadata": {},
   "outputs": [
    {
     "data": {
      "text/plain": [
       "1"
      ]
     },
     "execution_count": 9,
     "metadata": {},
     "output_type": "execute_result"
    }
   ],
   "source": [
    "# Inbuilt fn\n",
    "\n",
    "my_tuple.count('Python')      # How many times 'Python' is presnt"
   ]
  },
  {
   "cell_type": "code",
   "execution_count": 10,
   "id": "861fad11",
   "metadata": {},
   "outputs": [
    {
     "data": {
      "text/plain": [
       "1"
      ]
     },
     "execution_count": 10,
     "metadata": {},
     "output_type": "execute_result"
    }
   ],
   "source": [
    "my_tuple.index('Python')        # Index of 'Python'"
   ]
  }
 ],
 "metadata": {
  "kernelspec": {
   "display_name": "Python 3 (ipykernel)",
   "language": "python",
   "name": "python3"
  },
  "language_info": {
   "codemirror_mode": {
    "name": "ipython",
    "version": 3
   },
   "file_extension": ".py",
   "mimetype": "text/x-python",
   "name": "python",
   "nbconvert_exporter": "python",
   "pygments_lexer": "ipython3",
   "version": "3.9.13"
  }
 },
 "nbformat": 4,
 "nbformat_minor": 5
}
