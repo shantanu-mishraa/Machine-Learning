{
 "cells": [
  {
   "cell_type": "markdown",
   "id": "3054f640",
   "metadata": {},
   "source": [
    "## Sets"
   ]
  },
  {
   "cell_type": "markdown",
   "id": "bbb12063",
   "metadata": {},
   "source": [
    "A Set is an unorderd collection data type that is iterable,mutable,and has no duplicate elements. Python's set class represents the mathematical notion of a set. This is based on a data structure known as hash table.\n",
    "\n",
    "Contains diff data types,   \n",
    "Mutable,  \n",
    "No duplicates are allowed,  \n",
    "No indexing"
   ]
  },
  {
   "cell_type": "code",
   "execution_count": 1,
   "id": "c3d3db73",
   "metadata": {},
   "outputs": [
    {
     "name": "stdout",
     "output_type": "stream",
     "text": [
      "set()\n",
      "<class 'set'>\n"
     ]
    }
   ],
   "source": [
    "# Definining an empty set\n",
    "\n",
    "set_var=set()\n",
    "print(set_var)\n",
    "print(type(set_var))"
   ]
  },
  {
   "cell_type": "code",
   "execution_count": 2,
   "id": "3915171c",
   "metadata": {},
   "outputs": [],
   "source": [
    "set_var={1,2,3,4,3}"
   ]
  },
  {
   "cell_type": "code",
   "execution_count": 3,
   "id": "db8fee21",
   "metadata": {},
   "outputs": [
    {
     "data": {
      "text/plain": [
       "{1, 2, 3, 4}"
      ]
     },
     "execution_count": 3,
     "metadata": {},
     "output_type": "execute_result"
    }
   ],
   "source": [
    "set_var         #No duplicate element in set"
   ]
  },
  {
   "cell_type": "code",
   "execution_count": 4,
   "id": "37789579",
   "metadata": {},
   "outputs": [
    {
     "name": "stdout",
     "output_type": "stream",
     "text": [
      "{'IronMan', 'Avengers', 'Hitman'}\n",
      "<class 'set'>\n"
     ]
    }
   ],
   "source": [
    "set_var={\"Avengers\", \"IronMan\", \"Hitman\"}\n",
    "print(set_var)\n",
    "print(type(set_var))"
   ]
  },
  {
   "cell_type": "code",
   "execution_count": 5,
   "id": "3f35c6d0",
   "metadata": {},
   "outputs": [
    {
     "ename": "TypeError",
     "evalue": "'set' object is not subscriptable",
     "output_type": "error",
     "traceback": [
      "\u001b[1;31m---------------------------------------------------------------------------\u001b[0m",
      "\u001b[1;31mTypeError\u001b[0m                                 Traceback (most recent call last)",
      "\u001b[1;32m~\\AppData\\Local\\Temp\\ipykernel_20940\\2684890553.py\u001b[0m in \u001b[0;36m<module>\u001b[1;34m\u001b[0m\n\u001b[0;32m      1\u001b[0m \u001b[1;31m#Indexing\u001b[0m\u001b[1;33m\u001b[0m\u001b[1;33m\u001b[0m\u001b[0m\n\u001b[1;32m----> 2\u001b[1;33m \u001b[0mset_var\u001b[0m\u001b[1;33m[\u001b[0m\u001b[1;36m0\u001b[0m\u001b[1;33m]\u001b[0m        \u001b[1;31m# Set doesn't support indexing\u001b[0m\u001b[1;33m\u001b[0m\u001b[1;33m\u001b[0m\u001b[0m\n\u001b[0m",
      "\u001b[1;31mTypeError\u001b[0m: 'set' object is not subscriptable"
     ]
    }
   ],
   "source": [
    "#Indexing\n",
    "set_var[0]        # Set doesn't support indexing"
   ]
  },
  {
   "cell_type": "code",
   "execution_count": 6,
   "id": "fe173d69",
   "metadata": {},
   "outputs": [
    {
     "ename": "TypeError",
     "evalue": "'set' object is not subscriptable",
     "output_type": "error",
     "traceback": [
      "\u001b[1;31m---------------------------------------------------------------------------\u001b[0m",
      "\u001b[1;31mTypeError\u001b[0m                                 Traceback (most recent call last)",
      "\u001b[1;32m~\\AppData\\Local\\Temp\\ipykernel_20940\\2596609646.py\u001b[0m in \u001b[0;36m<module>\u001b[1;34m\u001b[0m\n\u001b[1;32m----> 1\u001b[1;33m \u001b[0mset_var\u001b[0m\u001b[1;33m[\u001b[0m\u001b[1;34m\"HitMan\"\u001b[0m\u001b[1;33m]\u001b[0m     \u001b[1;31m# Set doesn't support indexing\u001b[0m\u001b[1;33m\u001b[0m\u001b[1;33m\u001b[0m\u001b[0m\n\u001b[0m",
      "\u001b[1;31mTypeError\u001b[0m: 'set' object is not subscriptable"
     ]
    }
   ],
   "source": [
    "set_var[\"HitMan\"]     # Set doesn't support indexing"
   ]
  },
  {
   "cell_type": "code",
   "execution_count": 7,
   "id": "69334a14",
   "metadata": {},
   "outputs": [
    {
     "name": "stdout",
     "output_type": "stream",
     "text": [
      "{'IronMan', 'Avengers', 'Hitman', 'Hulk'}\n"
     ]
    }
   ],
   "source": [
    "# Inbuilt functions in sets\n",
    "\n",
    "set_var.add(\"Hulk\")\n",
    "print(set_var)"
   ]
  },
  {
   "cell_type": "code",
   "execution_count": 8,
   "id": "d45db1a7",
   "metadata": {},
   "outputs": [],
   "source": [
    "set1= {\"Avengers\",\"IronMan\",\"Hitman\"}\n",
    "set2= {\"Avengers\",\"IronMan\",\"HitMan\",\"Hulk2\"}"
   ]
  },
  {
   "cell_type": "code",
   "execution_count": 9,
   "id": "7059a6c5",
   "metadata": {},
   "outputs": [
    {
     "data": {
      "text/plain": [
       "{'HitMan', 'Hulk2'}"
      ]
     },
     "execution_count": 9,
     "metadata": {},
     "output_type": "execute_result"
    }
   ],
   "source": [
    "#set difference\n",
    "set2.difference(set1)         #Just like sets in Maths"
   ]
  },
  {
   "cell_type": "code",
   "execution_count": 10,
   "id": "c5fe4c74",
   "metadata": {},
   "outputs": [
    {
     "data": {
      "text/plain": [
       "{'Avengers', 'HitMan', 'Hulk2', 'IronMan'}"
      ]
     },
     "execution_count": 10,
     "metadata": {},
     "output_type": "execute_result"
    }
   ],
   "source": [
    "set2          #No change in set2 even after set diff operation"
   ]
  },
  {
   "cell_type": "code",
   "execution_count": 11,
   "id": "0833bc1c",
   "metadata": {},
   "outputs": [],
   "source": [
    "# Difference Update\n",
    "set2.difference_update(set1)"
   ]
  },
  {
   "cell_type": "code",
   "execution_count": 12,
   "id": "dc3a6611",
   "metadata": {},
   "outputs": [
    {
     "data": {
      "text/plain": [
       "{'HitMan', 'Hulk2'}"
      ]
     },
     "execution_count": 12,
     "metadata": {},
     "output_type": "execute_result"
    }
   ],
   "source": [
    "set2          #set2 got updated"
   ]
  },
  {
   "cell_type": "code",
   "execution_count": 19,
   "id": "c03fadb1",
   "metadata": {},
   "outputs": [],
   "source": [
    "set1= {\"Avengers\",\"IronMan\",\"HitMan\"}\n",
    "set2= {\"Avengers\",\"IronMan\",\"HitMan\",\"Hulk2\"}"
   ]
  },
  {
   "cell_type": "code",
   "execution_count": 16,
   "id": "a3b115f3",
   "metadata": {},
   "outputs": [
    {
     "data": {
      "text/plain": [
       "{'Avengers', 'HitMan', 'IronMan'}"
      ]
     },
     "execution_count": 16,
     "metadata": {},
     "output_type": "execute_result"
    }
   ],
   "source": [
    "set2.intersection(set1)              # returns common element in set1 and set2"
   ]
  },
  {
   "cell_type": "code",
   "execution_count": 17,
   "id": "61ed09c9",
   "metadata": {},
   "outputs": [],
   "source": [
    "set2.intersection_update(set1)"
   ]
  },
  {
   "cell_type": "code",
   "execution_count": 18,
   "id": "bf74f271",
   "metadata": {},
   "outputs": [
    {
     "data": {
      "text/plain": [
       "{'Avengers', 'HitMan', 'IronMan'}"
      ]
     },
     "execution_count": 18,
     "metadata": {},
     "output_type": "execute_result"
    }
   ],
   "source": [
    "set2"
   ]
  },
  {
   "cell_type": "code",
   "execution_count": 20,
   "id": "624731fa",
   "metadata": {},
   "outputs": [
    {
     "data": {
      "text/plain": [
       "{'Avengers', 'HitMan', 'Hulk2', 'IronMan'}"
      ]
     },
     "execution_count": 20,
     "metadata": {},
     "output_type": "execute_result"
    }
   ],
   "source": [
    "set2.union(set1)            # returns every elements of set1 and set2"
   ]
  }
 ],
 "metadata": {
  "kernelspec": {
   "display_name": "Python 3 (ipykernel)",
   "language": "python",
   "name": "python3"
  },
  "language_info": {
   "codemirror_mode": {
    "name": "ipython",
    "version": 3
   },
   "file_extension": ".py",
   "mimetype": "text/x-python",
   "name": "python",
   "nbconvert_exporter": "python",
   "pygments_lexer": "ipython3",
   "version": "3.9.13"
  }
 },
 "nbformat": 4,
 "nbformat_minor": 5
}
