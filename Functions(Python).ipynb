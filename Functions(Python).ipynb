{
  "nbformat": 4,
  "nbformat_minor": 0,
  "metadata": {
    "colab": {
      "provenance": []
    },
    "kernelspec": {
      "name": "python3",
      "display_name": "Python 3"
    },
    "language_info": {
      "name": "python"
    }
  },
  "cells": [
    {
      "cell_type": "markdown",
      "source": [
        "**Functions**\n",
        "\n",
        "Functions is a block of code that can be reused in a program\n",
        "\n"
      ],
      "metadata": {
        "id": "xd2AIXPvBAwp"
      }
    },
    {
      "cell_type": "code",
      "source": [
        "def my_function() :                # Function definition\n",
        "  print(\"Hello World\")\n",
        "\n",
        "my_function()                      # Function Call"
      ],
      "metadata": {
        "colab": {
          "base_uri": "https://localhost:8080/"
        },
        "id": "66xVENf0EIxa",
        "outputId": "7d3fd69e-78b9-4505-ab65-e48a176c41d0"
      },
      "execution_count": null,
      "outputs": [
        {
          "output_type": "stream",
          "name": "stdout",
          "text": [
            "Hello World\n"
          ]
        }
      ]
    },
    {
      "cell_type": "markdown",
      "source": [
        "Parameter and Arguments:\n",
        "\n",
        "A parameter is the variable listed inside the parantheses in the function definition.\n",
        "\n",
        "An argument is the value that is sent to the function when it is called."
      ],
      "metadata": {
        "id": "9oGWEawiaMvi"
      }
    },
    {
      "cell_type": "code",
      "source": [
        "# No of parameter and argument should be same\n",
        "def my_function(fname, lname):\n",
        "  print(fname + \" \" + lname)\n",
        "\n",
        "my_function(\"Emil\", \"Refsnes\")"
      ],
      "metadata": {
        "colab": {
          "base_uri": "https://localhost:8080/"
        },
        "id": "uC7OUcDMa_lH",
        "outputId": "050317cd-565f-43e6-e60d-246528335ad4"
      },
      "execution_count": null,
      "outputs": [
        {
          "output_type": "stream",
          "name": "stdout",
          "text": [
            "Emil Refsnes\n"
          ]
        }
      ]
    },
    {
      "cell_type": "code",
      "source": [
        "# Factorial of a number\n",
        "number = int(input(\"Enter the number: \"))\n",
        "\n",
        "factorial = 1\n",
        "if number == 0:\n",
        "  print(\"The factorial of 0 is 1\")\n",
        "else:\n",
        "  for i in range(1, number+1):           # range(1,6)= include 1 and exclude 6\n",
        "    factorial = factorial*i            \n",
        "print(\"The factorial of {} is {}\".format(number,factorial))"
      ],
      "metadata": {
        "colab": {
          "base_uri": "https://localhost:8080/"
        },
        "id": "EaAQ1EHaEbMy",
        "outputId": "63937968-d303-4aa9-f284-a6f9111d55f0"
      },
      "execution_count": null,
      "outputs": [
        {
          "output_type": "stream",
          "name": "stdout",
          "text": [
            "Enter the number: 5\n",
            "The factorial of 5 is 120\n"
          ]
        }
      ]
    },
    {
      "cell_type": "code",
      "source": [
        "# Factorial Function\n",
        "def fact(num):\n",
        "  factorial = 1\n",
        "  if num == 0:\n",
        "    return factorial\n",
        "  else:\n",
        "    for i in range(1, num+1):\n",
        "      factorial = factorial*i\n",
        "  return factorial  \n",
        "\n",
        "num = int(input(\"Enter the number: \"))\n",
        "fact(num) "
      ],
      "metadata": {
        "colab": {
          "base_uri": "https://localhost:8080/"
        },
        "id": "KARpA9uwV3mh",
        "outputId": "49072976-e44d-4c07-fa2c-3f4c45b9a11e"
      },
      "execution_count": null,
      "outputs": [
        {
          "name": "stdout",
          "output_type": "stream",
          "text": [
            "Enter the number: 5\n"
          ]
        },
        {
          "output_type": "execute_result",
          "data": {
            "text/plain": [
              "120"
            ]
          },
          "metadata": {},
          "execution_count": 12
        }
      ]
    },
    {
      "cell_type": "code",
      "source": [
        "fact(10)"
      ],
      "metadata": {
        "colab": {
          "base_uri": "https://localhost:8080/"
        },
        "id": "g0N_KNhYY1-p",
        "outputId": "f628d0a3-e0d4-43a5-b43a-c3437df50b08"
      },
      "execution_count": null,
      "outputs": [
        {
          "output_type": "execute_result",
          "data": {
            "text/plain": [
              "3628800"
            ]
          },
          "metadata": {},
          "execution_count": 13
        }
      ]
    }
  ]
}