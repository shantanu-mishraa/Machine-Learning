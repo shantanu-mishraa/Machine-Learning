{
  "nbformat": 4,
  "nbformat_minor": 0,
  "metadata": {
    "colab": {
      "provenance": []
    },
    "kernelspec": {
      "name": "python3",
      "display_name": "Python 3"
    },
    "language_info": {
      "name": "python"
    }
  },
  "cells": [
    {
      "cell_type": "code",
      "execution_count": 3,
      "metadata": {
        "id": "eud9jvHaARXX"
      },
      "outputs": [],
      "source": [
        "import numpy as np"
      ]
    },
    {
      "cell_type": "markdown",
      "source": [
        "**Dot Product of two Vector:**"
      ],
      "metadata": {
        "id": "88MtbqvSC-kn"
      }
    },
    {
      "cell_type": "code",
      "source": [
        "a = np.array([2,3])\n",
        "b = np.array([4,4])\n",
        "\n",
        "a_dot_b = np.dot(a,b)\n",
        "print(a_dot_b) "
      ],
      "metadata": {
        "colab": {
          "base_uri": "https://localhost:8080/"
        },
        "id": "bg37MoqQC97i",
        "outputId": "696814b8-0506-43af-81d6-83941fb9e3be"
      },
      "execution_count": 4,
      "outputs": [
        {
          "output_type": "stream",
          "name": "stdout",
          "text": [
            "20\n"
          ]
        }
      ]
    },
    {
      "cell_type": "code",
      "source": [
        "c = np.array([40,20,35])\n",
        "d = np.array([5,7,13])\n",
        "\n",
        "c_dot_d = np.dot(c,d)\n",
        "print(c_dot_d)"
      ],
      "metadata": {
        "colab": {
          "base_uri": "https://localhost:8080/"
        },
        "id": "B3PSq-QRDgyp",
        "outputId": "1c03562c-6ae6-49a8-961e-405653975feb"
      },
      "execution_count": 7,
      "outputs": [
        {
          "output_type": "stream",
          "name": "stdout",
          "text": [
            "795\n"
          ]
        }
      ]
    },
    {
      "cell_type": "markdown",
      "source": [
        "**Cross Product of two Vectors:**"
      ],
      "metadata": {
        "id": "m9UfnAOLD69a"
      }
    },
    {
      "cell_type": "code",
      "source": [
        "a = np.array([2,3])\n",
        "b = np.array([4,4])\n",
        "\n",
        "a_cross_b = np.cross(a,b)\n",
        "print(a_cross_b)                 # here i and j coodinates are zero"
      ],
      "metadata": {
        "colab": {
          "base_uri": "https://localhost:8080/"
        },
        "id": "qVvGfIWDDy-w",
        "outputId": "c879ba30-efc9-4236-beb7-996e49b1cd9f"
      },
      "execution_count": 10,
      "outputs": [
        {
          "output_type": "stream",
          "name": "stdout",
          "text": [
            "-4\n"
          ]
        }
      ]
    },
    {
      "cell_type": "code",
      "source": [
        "c = np.array([40,20,35])\n",
        "d = np.array([5,7,13])\n",
        "\n",
        "c_cross_d = np.cross(c,d)\n",
        "print(c_cross_d)"
      ],
      "metadata": {
        "colab": {
          "base_uri": "https://localhost:8080/"
        },
        "id": "9WJkYidSEJdA",
        "outputId": "107eaade-c2fa-4b2f-a155-29b59ff15ddf"
      },
      "execution_count": 11,
      "outputs": [
        {
          "output_type": "stream",
          "name": "stdout",
          "text": [
            "[  15 -345  180]\n"
          ]
        }
      ]
    },
    {
      "cell_type": "markdown",
      "source": [
        "**Projection on 'a' vector on 'v' vector:**"
      ],
      "metadata": {
        "id": "A7p1dePkEyc3"
      }
    },
    {
      "cell_type": "code",
      "source": [
        "# Proj means part of 'a' in direction of 'v'\n",
        "a = np.array([2,5])\n",
        "v = np.array([8,-6])\n",
        "\n",
        "mag_of_v = np.sqrt(sum(v**2))            #magnitude of 'v' vector\n",
        "proj_of_a_on_v = (np.dot(a,v)/mag_of_v**2)*v\n",
        "\n",
        "print('Projection of a vector on v vector',proj_of_a_on_v)"
      ],
      "metadata": {
        "colab": {
          "base_uri": "https://localhost:8080/"
        },
        "id": "Maf_v7HKEfh0",
        "outputId": "7f9f40be-5bdf-4fb9-cb7a-6cc96d380e3c"
      },
      "execution_count": 15,
      "outputs": [
        {
          "output_type": "stream",
          "name": "stdout",
          "text": [
            "Projection of a vector on v vector [-1.12  0.84]\n"
          ]
        }
      ]
    }
  ]
}