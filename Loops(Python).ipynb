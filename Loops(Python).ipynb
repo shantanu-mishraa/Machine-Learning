{
  "nbformat": 4,
  "nbformat_minor": 0,
  "metadata": {
    "colab": {
      "provenance": []
    },
    "kernelspec": {
      "name": "python3",
      "display_name": "Python 3"
    },
    "language_info": {
      "name": "python"
    }
  },
  "cells": [
    {
      "cell_type": "markdown",
      "source": [
        "For loop"
      ],
      "metadata": {
        "id": "1RtRTknv3ej4"
      }
    },
    {
      "cell_type": "code",
      "execution_count": 1,
      "metadata": {
        "colab": {
          "base_uri": "https://localhost:8080/"
        },
        "id": "qV5tT3lkvwwG",
        "outputId": "265473c4-c467-4228-e435-f65a3fa6f23c"
      },
      "outputs": [
        {
          "name": "stdout",
          "output_type": "stream",
          "text": [
            "Enter the price of laptop: 10000\n",
            "Enter the price of laptop: 20000\n",
            "Enter the price of laptop: 30000\n",
            "Enter the price of laptop: 40000\n",
            "Enter the price of laptop: 50000\n"
          ]
        }
      ],
      "source": [
        "laptop1 = int(input('Enter the price of laptop: '))\n",
        "laptop2 = int(input('Enter the price of laptop: '))\n",
        "laptop3 = int(input('Enter the price of laptop: '))\n",
        "laptop4 = int(input('Enter the price of laptop: '))\n",
        "laptop5 = int(input('Enter the price of laptop: '))"
      ]
    },
    {
      "cell_type": "code",
      "source": [
        "for i in range(0,5):\n",
        "  laptop_price = int(input('Enter the price of the laptop: '))"
      ],
      "metadata": {
        "colab": {
          "base_uri": "https://localhost:8080/"
        },
        "id": "yMs6PwJ54cKm",
        "outputId": "d1d1e9d3-32b6-4877-ee6a-97e894cf1a84"
      },
      "execution_count": null,
      "outputs": [
        {
          "name": "stdout",
          "output_type": "stream",
          "text": [
            "Enter the price of the laptop: 10000\n",
            "Enter the price of the laptop: 20000\n",
            "Enter the price of the laptop: 30000\n",
            "Enter the price of the laptop: 40000\n",
            "Enter the price of the laptop: 50000\n"
          ]
        }
      ]
    },
    {
      "cell_type": "code",
      "source": [
        "numbers = [50,100,150,200]\n",
        "\n",
        "print(numbers[0])\n",
        "print(numbers[1])\n",
        "print(numbers[2])\n",
        "print(numbers[3])"
      ],
      "metadata": {
        "colab": {
          "base_uri": "https://localhost:8080/"
        },
        "id": "LUFXVvoD9AnY",
        "outputId": "900c8062-1418-432a-a642-b87887afc72a"
      },
      "execution_count": null,
      "outputs": [
        {
          "output_type": "stream",
          "name": "stdout",
          "text": [
            "50\n",
            "100\n",
            "150\n",
            "200\n"
          ]
        }
      ]
    },
    {
      "cell_type": "code",
      "source": [
        "numbers = [50,100,150,200]\n",
        "\n",
        "for i in numbers:\n",
        "  print(i)"
      ],
      "metadata": {
        "colab": {
          "base_uri": "https://localhost:8080/"
        },
        "id": "XKTuuqkB9VXB",
        "outputId": "6eb48d10-e69d-4f05-b276-23831551da94"
      },
      "execution_count": null,
      "outputs": [
        {
          "output_type": "stream",
          "name": "stdout",
          "text": [
            "50\n",
            "100\n",
            "150\n",
            "200\n"
          ]
        }
      ]
    },
    {
      "cell_type": "markdown",
      "source": [
        "**While loop** \n",
        "\n",
        "when you are not sure how many times loop has to run"
      ],
      "metadata": {
        "id": "JuW8ZFR09zCD"
      }
    },
    {
      "cell_type": "code",
      "source": [
        "i = 0\n",
        "\n",
        "while i<10:\n",
        "  print(i)\n",
        "  i += 1        # i=i+1"
      ],
      "metadata": {
        "colab": {
          "base_uri": "https://localhost:8080/"
        },
        "id": "I1wMQ-oU91he",
        "outputId": "0bfd2809-b7ea-4459-9722-4497054af35c"
      },
      "execution_count": null,
      "outputs": [
        {
          "output_type": "stream",
          "name": "stdout",
          "text": [
            "0\n",
            "1\n",
            "2\n",
            "3\n",
            "4\n",
            "5\n",
            "6\n",
            "7\n",
            "8\n",
            "9\n"
          ]
        }
      ]
    }
  ]
}