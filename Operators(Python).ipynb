{
  "nbformat": 4,
  "nbformat_minor": 0,
  "metadata": {
    "colab": {
      "provenance": []
    },
    "kernelspec": {
      "name": "python3",
      "display_name": "Python 3"
    },
    "language_info": {
      "name": "python"
    }
  },
  "cells": [
    {
      "cell_type": "markdown",
      "source": [
        "##Operators in Python\n",
        "\n",
        "*   Arithmetic Operators\n",
        "*   Assignment Operators\n",
        "*   Comparison Operators\n",
        "*   Logical Operators\n",
        "*   Identity Operators\n",
        "*   Membership Opeartors\n",
        "\n",
        "\n",
        "\n"
      ],
      "metadata": {
        "id": "75ukwyCh3GiC"
      }
    },
    {
      "cell_type": "code",
      "source": [
        "# Arithmetic Operators\n",
        "\n",
        "num_1 = 10\n",
        "num_2 = 20\n",
        "\n",
        "#Addition\n",
        "sum = num_1 + num_2\n",
        "print('Sum =',sum)\n",
        "\n",
        "#Subtraction\n",
        "diff = num_2 - num_1\n",
        "print('Difference =',diff)\n",
        "\n",
        "#Multiplication\n",
        "prod = num_1 * num_2\n",
        "print('Product =',prod)\n",
        "\n",
        "#Division\n",
        "div = num_2 / num_1\n",
        "print('Division =',div)\n",
        "\n",
        "#Exponent\n",
        "exp = num_1**num_2\n",
        "print('Exponent =',exp)\n",
        "\n",
        "#Modulus\n",
        "mod = num_1 % num_2\n",
        "print('Modulus =',mod)"
      ],
      "metadata": {
        "colab": {
          "base_uri": "https://localhost:8080/"
        },
        "id": "5MOn5QfT3mKj",
        "outputId": "b6b837a7-927c-43df-b54c-35d3843fedc3"
      },
      "execution_count": 9,
      "outputs": [
        {
          "output_type": "stream",
          "name": "stdout",
          "text": [
            "Sum = 30\n",
            "Difference = 10\n",
            "Product = 200\n",
            "Division = 2.0\n",
            "Exponent = 100000000000000000000\n",
            "Modulus = 10\n"
          ]
        }
      ]
    },
    {
      "cell_type": "code",
      "source": [
        "# Assignment Opeartors\n",
        "\n",
        "a = 5                  # \"=\" is assignment operator\n",
        "print(a)\n",
        "\n",
        "a = 5\n",
        "a += 5                 # \"+=\" means a= a+5\n",
        "print(a)\n",
        "\n",
        "b = 10\n",
        "b -= 2                 # \"-=\" means b= b-2\n",
        "print(b)\n",
        "\n",
        "c = 3\n",
        "c *= 4                # c= c*4\n",
        "print(c)\n",
        "\n",
        "c = 3\n",
        "c **= 4               # c= c^4\n",
        "print(c)\n",
        "\n",
        "c = 5\n",
        "c /= 2                # c= c/2\n",
        "print(c)\n",
        "\n",
        "c = 12\n",
        "c %=3                # c= c%3\n",
        "print(c)"
      ],
      "metadata": {
        "colab": {
          "base_uri": "https://localhost:8080/"
        },
        "id": "lrzlu0YJ6wba",
        "outputId": "8e45c292-ef6d-4571-e777-001cf4d2b307"
      },
      "execution_count": 10,
      "outputs": [
        {
          "output_type": "stream",
          "name": "stdout",
          "text": [
            "5\n",
            "10\n",
            "8\n",
            "12\n",
            "81\n",
            "2.5\n",
            "0\n"
          ]
        }
      ]
    },
    {
      "cell_type": "code",
      "source": [
        "# Comparison Operators\n",
        "\n",
        "a = 5\n",
        "b = 10\n",
        "\n",
        "print(a == b)       #equal to\n",
        "print(a != b)       #not equal to\n",
        "print(a > b)        #greater than\n",
        "print(a < b)        #less than\n",
        "print(a <= b)       #less than equal to\n",
        "print(a >= b)       #greater than equal to\n",
        "# returns either true or false"
      ],
      "metadata": {
        "id": "ZsQFQSVh-5xe",
        "colab": {
          "base_uri": "https://localhost:8080/"
        },
        "outputId": "dedc9abb-e491-4d4b-992b-b80b2df11b6c"
      },
      "execution_count": null,
      "outputs": [
        {
          "output_type": "stream",
          "name": "stdout",
          "text": [
            "False\n",
            "True\n",
            "False\n",
            "True\n",
            "True\n",
            "False\n"
          ]
        }
      ]
    },
    {
      "cell_type": "code",
      "source": [
        "# Logical Operators\n",
        "\n",
        "a = 10\n",
        "\n",
        "#and\n",
        "print( a>20 and a<10)\n",
        "print( a <=10 and a>8)\n",
        "\n",
        "#or\n",
        "print( a>9 or a>30)\n",
        "print( a>20 or a==12)\n",
        "\n",
        "#not\n",
        "print( not(a>5))"
      ],
      "metadata": {
        "colab": {
          "base_uri": "https://localhost:8080/"
        },
        "id": "IbyxeGKr6M5x",
        "outputId": "f0b90f07-c005-45dd-b894-45feb37eb3df"
      },
      "execution_count": null,
      "outputs": [
        {
          "output_type": "stream",
          "name": "stdout",
          "text": [
            "False\n",
            "True\n",
            "True\n",
            "False\n",
            "False\n"
          ]
        }
      ]
    },
    {
      "cell_type": "code",
      "source": [
        "# Identity Opeartors\n",
        "\n",
        "x = 5\n",
        "y = 5\n",
        "\n",
        "#is\n",
        "print(x is y)\n",
        "\n",
        "#is not\n",
        "print(x is not y)"
      ],
      "metadata": {
        "colab": {
          "base_uri": "https://localhost:8080/"
        },
        "id": "YJ0nHSh88iZC",
        "outputId": "9449b645-b53c-4359-a339-d9b60cc6f3be"
      },
      "execution_count": null,
      "outputs": [
        {
          "output_type": "stream",
          "name": "stdout",
          "text": [
            "True\n",
            "False\n"
          ]
        }
      ]
    },
    {
      "cell_type": "code",
      "source": [
        "# Membership Operators\n",
        "\n",
        "a = 5\n",
        "b = 10\n",
        "c = [1,2,3,4,5]\n",
        "\n",
        "# in\n",
        "print(a in c)\n",
        "print(a not in c)\n",
        "\n",
        "# not in\n",
        "print(b in c)\n",
        "print(b not in c)\n"
      ],
      "metadata": {
        "colab": {
          "base_uri": "https://localhost:8080/"
        },
        "id": "Uo4nRNnm-MCs",
        "outputId": "b3e33425-e726-41c9-b113-a1b92b0db6b6"
      },
      "execution_count": null,
      "outputs": [
        {
          "output_type": "stream",
          "name": "stdout",
          "text": [
            "True\n",
            "False\n",
            "False\n",
            "True\n"
          ]
        }
      ]
    }
  ]
}