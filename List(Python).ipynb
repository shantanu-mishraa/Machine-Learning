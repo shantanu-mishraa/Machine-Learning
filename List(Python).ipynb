{
 "cells": [
  {
   "cell_type": "markdown",
   "id": "8070cb16",
   "metadata": {},
   "source": [
    "### Lists\n",
    "A list is a data structure in Python that is mutable, or Changeable, ordered sequence of elements. Each elements or value that is inside of a list is called an item. Just as strings are defined as characters between quotes, lists are defined by having values between square bracket.\n",
    "\n",
    "Can contains different data types,  \n",
    "Mutable,  \n",
    "Indexing is there,  \n",
    "Duplicate elements are allowed."
   ]
  },
  {
   "cell_type": "code",
   "execution_count": 1,
   "id": "0eb3b515",
   "metadata": {},
   "outputs": [],
   "source": [
    "lst_example=[]"
   ]
  },
  {
   "cell_type": "code",
   "execution_count": 2,
   "id": "da67a87f",
   "metadata": {},
   "outputs": [
    {
     "data": {
      "text/plain": [
       "list"
      ]
     },
     "execution_count": 2,
     "metadata": {},
     "output_type": "execute_result"
    }
   ],
   "source": [
    "type(lst_example)"
   ]
  },
  {
   "cell_type": "code",
   "execution_count": 3,
   "id": "1db9af27",
   "metadata": {},
   "outputs": [],
   "source": [
    "lst=list()"
   ]
  },
  {
   "cell_type": "code",
   "execution_count": 4,
   "id": "63ad23e5",
   "metadata": {},
   "outputs": [
    {
     "data": {
      "text/plain": [
       "list"
      ]
     },
     "execution_count": 4,
     "metadata": {},
     "output_type": "execute_result"
    }
   ],
   "source": [
    "type(lst)"
   ]
  },
  {
   "cell_type": "code",
   "execution_count": 5,
   "id": "cb378dda",
   "metadata": {},
   "outputs": [],
   "source": [
    "lst=['Maths','Che',17,90,40]"
   ]
  },
  {
   "cell_type": "code",
   "execution_count": 6,
   "id": "2c61fdb0",
   "metadata": {},
   "outputs": [
    {
     "data": {
      "text/plain": [
       "5"
      ]
     },
     "execution_count": 6,
     "metadata": {},
     "output_type": "execute_result"
    }
   ],
   "source": [
    "len(lst)"
   ]
  },
  {
   "cell_type": "code",
   "execution_count": 7,
   "id": "2dd689af",
   "metadata": {},
   "outputs": [],
   "source": [
    "lst.append('Mishra')      #append is used to add items to the list at the end"
   ]
  },
  {
   "cell_type": "code",
   "execution_count": 8,
   "id": "73328cec",
   "metadata": {},
   "outputs": [
    {
     "name": "stdout",
     "output_type": "stream",
     "text": [
      "['Maths', 'Che', 17, 90, 40, 'Mishra']\n"
     ]
    }
   ],
   "source": [
    "print(lst)"
   ]
  },
  {
   "cell_type": "code",
   "execution_count": 9,
   "id": "8e2c1954",
   "metadata": {},
   "outputs": [],
   "source": [
    "lst.append([\"Shantanu\",\"Mishra\"])           # It will create a nested list"
   ]
  },
  {
   "cell_type": "code",
   "execution_count": 10,
   "id": "6ac50dcd",
   "metadata": {},
   "outputs": [
    {
     "name": "stdout",
     "output_type": "stream",
     "text": [
      "['Maths', 'Che', 17, 90, 40, 'Mishra', ['Shantanu', 'Mishra']]\n"
     ]
    }
   ],
   "source": [
    "print(lst)"
   ]
  },
  {
   "cell_type": "code",
   "execution_count": 11,
   "id": "99f3ad8b",
   "metadata": {},
   "outputs": [
    {
     "data": {
      "text/plain": [
       "17"
      ]
     },
     "execution_count": 11,
     "metadata": {},
     "output_type": "execute_result"
    }
   ],
   "source": [
    "lst[2]                #Indexing in list starts from zero"
   ]
  },
  {
   "cell_type": "code",
   "execution_count": 12,
   "id": "ce82a937",
   "metadata": {},
   "outputs": [
    {
     "data": {
      "text/plain": [
       "40"
      ]
     },
     "execution_count": 12,
     "metadata": {},
     "output_type": "execute_result"
    }
   ],
   "source": [
    "lst[4]"
   ]
  },
  {
   "cell_type": "code",
   "execution_count": 13,
   "id": "7cc285c4",
   "metadata": {},
   "outputs": [],
   "source": [
    "lst.insert(5,'Shantanu')              #insert is used to add item at the specific index"
   ]
  },
  {
   "cell_type": "code",
   "execution_count": 14,
   "id": "40be917e",
   "metadata": {},
   "outputs": [
    {
     "data": {
      "text/plain": [
       "['Maths', 'Che', 17, 90, 40, 'Shantanu', 'Mishra', ['Shantanu', 'Mishra']]"
      ]
     },
     "execution_count": 14,
     "metadata": {},
     "output_type": "execute_result"
    }
   ],
   "source": [
    "lst"
   ]
  },
  {
   "cell_type": "code",
   "execution_count": 15,
   "id": "d1e4517a",
   "metadata": {},
   "outputs": [],
   "source": [
    "lst = ['Maths', 'Che', 17, 90, 40, 'Shantanu', 'Mishra']"
   ]
  },
  {
   "cell_type": "code",
   "execution_count": 16,
   "id": "76c81f1f",
   "metadata": {},
   "outputs": [
    {
     "data": {
      "text/plain": [
       "['Maths', 'Che', 17, 90, 40, 'Shantanu', 'Mishra']"
      ]
     },
     "execution_count": 16,
     "metadata": {},
     "output_type": "execute_result"
    }
   ],
   "source": [
    "lst[:]"
   ]
  },
  {
   "cell_type": "code",
   "execution_count": 17,
   "id": "7123bec4",
   "metadata": {},
   "outputs": [
    {
     "data": {
      "text/plain": [
       "[17, 90, 40, 'Shantanu', 'Mishra']"
      ]
     },
     "execution_count": 17,
     "metadata": {},
     "output_type": "execute_result"
    }
   ],
   "source": [
    "lst[2:]"
   ]
  },
  {
   "cell_type": "code",
   "execution_count": 18,
   "id": "84222d05",
   "metadata": {},
   "outputs": [
    {
     "data": {
      "text/plain": [
       "[17, 90, 40]"
      ]
     },
     "execution_count": 18,
     "metadata": {},
     "output_type": "execute_result"
    }
   ],
   "source": [
    "lst[2:5]"
   ]
  },
  {
   "cell_type": "code",
   "execution_count": 19,
   "id": "eb1880ca",
   "metadata": {},
   "outputs": [],
   "source": [
    "lst1=[1,2,3,4,5,6]"
   ]
  },
  {
   "cell_type": "code",
   "execution_count": 20,
   "id": "ed5f5c9b",
   "metadata": {},
   "outputs": [],
   "source": [
    "lst1.extend([8,9])      #extend just adds as seprate element rather than creating a nested list"
   ]
  },
  {
   "cell_type": "code",
   "execution_count": 23,
   "id": "960cc5e5",
   "metadata": {},
   "outputs": [
    {
     "data": {
      "text/plain": [
       "[1, 2, 3, 4, 5, 6, 8, 9]"
      ]
     },
     "execution_count": 23,
     "metadata": {},
     "output_type": "execute_result"
    }
   ],
   "source": [
    "lst1"
   ]
  },
  {
   "cell_type": "code",
   "execution_count": 24,
   "id": "9c1df3a8",
   "metadata": {},
   "outputs": [
    {
     "data": {
      "text/plain": [
       "38"
      ]
     },
     "execution_count": 24,
     "metadata": {},
     "output_type": "execute_result"
    }
   ],
   "source": [
    "sum(lst1)                   #return sum"
   ]
  },
  {
   "cell_type": "code",
   "execution_count": 26,
   "id": "381cb787",
   "metadata": {},
   "outputs": [
    {
     "data": {
      "text/plain": [
       "[1,\n",
       " 2,\n",
       " 3,\n",
       " 4,\n",
       " 5,\n",
       " 6,\n",
       " 8,\n",
       " 9,\n",
       " 1,\n",
       " 2,\n",
       " 3,\n",
       " 4,\n",
       " 5,\n",
       " 6,\n",
       " 8,\n",
       " 9,\n",
       " 1,\n",
       " 2,\n",
       " 3,\n",
       " 4,\n",
       " 5,\n",
       " 6,\n",
       " 8,\n",
       " 9,\n",
       " 1,\n",
       " 2,\n",
       " 3,\n",
       " 4,\n",
       " 5,\n",
       " 6,\n",
       " 8,\n",
       " 9,\n",
       " 1,\n",
       " 2,\n",
       " 3,\n",
       " 4,\n",
       " 5,\n",
       " 6,\n",
       " 8,\n",
       " 9]"
      ]
     },
     "execution_count": 26,
     "metadata": {},
     "output_type": "execute_result"
    }
   ],
   "source": [
    "lst1*5            # list got multiplied 5 times"
   ]
  },
  {
   "cell_type": "code",
   "execution_count": 29,
   "id": "aa107dfd",
   "metadata": {},
   "outputs": [
    {
     "data": {
      "text/plain": [
       "45"
      ]
     },
     "execution_count": 29,
     "metadata": {},
     "output_type": "execute_result"
    }
   ],
   "source": [
    "list = [1,2,3,4,'Shan','Mishra',45]\n",
    "list.pop()                      #By default it will remove the last element"
   ]
  },
  {
   "cell_type": "code",
   "execution_count": 30,
   "id": "3df62ef8",
   "metadata": {},
   "outputs": [
    {
     "data": {
      "text/plain": [
       "4"
      ]
     },
     "execution_count": 30,
     "metadata": {},
     "output_type": "execute_result"
    }
   ],
   "source": [
    "list.pop(3)                     #removes element at index 3"
   ]
  },
  {
   "cell_type": "code",
   "execution_count": 31,
   "id": "25d251e7",
   "metadata": {},
   "outputs": [],
   "source": [
    "lst= [1,2,3,3,4,5,5,5,68,9]"
   ]
  },
  {
   "cell_type": "code",
   "execution_count": 32,
   "id": "7d49ea08",
   "metadata": {},
   "outputs": [
    {
     "data": {
      "text/plain": [
       "3"
      ]
     },
     "execution_count": 32,
     "metadata": {},
     "output_type": "execute_result"
    }
   ],
   "source": [
    "lst.count(5)                   #Returns the no of times 5 occured"
   ]
  },
  {
   "cell_type": "code",
   "execution_count": 34,
   "id": "14d00967",
   "metadata": {},
   "outputs": [
    {
     "data": {
      "text/plain": [
       "0"
      ]
     },
     "execution_count": 34,
     "metadata": {},
     "output_type": "execute_result"
    }
   ],
   "source": [
    "lst.index(1,0,4)              # .index(value,start index,end index) and it returns at which index value is present"
   ]
  },
  {
   "cell_type": "code",
   "execution_count": 35,
   "id": "4fa9d78f",
   "metadata": {},
   "outputs": [
    {
     "data": {
      "text/plain": [
       "1"
      ]
     },
     "execution_count": 35,
     "metadata": {},
     "output_type": "execute_result"
    }
   ],
   "source": [
    "min(lst)                      #returns the minimum value in list"
   ]
  },
  {
   "cell_type": "code",
   "execution_count": 36,
   "id": "b6deb7da",
   "metadata": {},
   "outputs": [
    {
     "data": {
      "text/plain": [
       "68"
      ]
     },
     "execution_count": 36,
     "metadata": {},
     "output_type": "execute_result"
    }
   ],
   "source": [
    "max(lst)                     #returns the max value in list"
   ]
  }
 ],
 "metadata": {
  "kernelspec": {
   "display_name": "Python 3 (ipykernel)",
   "language": "python",
   "name": "python3"
  },
  "language_info": {
   "codemirror_mode": {
    "name": "ipython",
    "version": 3
   },
   "file_extension": ".py",
   "mimetype": "text/x-python",
   "name": "python",
   "nbconvert_exporter": "python",
   "pygments_lexer": "ipython3",
   "version": "3.9.13"
  }
 },
 "nbformat": 4,
 "nbformat_minor": 5
}
