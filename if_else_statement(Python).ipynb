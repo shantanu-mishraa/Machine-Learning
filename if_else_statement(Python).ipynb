{
  "nbformat": 4,
  "nbformat_minor": 0,
  "metadata": {
    "colab": {
      "provenance": []
    },
    "kernelspec": {
      "name": "python3",
      "display_name": "Python 3"
    },
    "language_info": {
      "name": "python"
    }
  },
  "cells": [
    {
      "cell_type": "markdown",
      "source": [
        "Simple If else statement"
      ],
      "metadata": {
        "id": "vAe1ZJOfl-Qs"
      }
    },
    {
      "cell_type": "code",
      "source": [
        "a = 30\n",
        "b = 40\n",
        "\n",
        "if(a>b):\n",
        "  print(\"a is greatest number\")\n",
        "else :\n",
        "  print(\"b is greatest number\")"
      ],
      "metadata": {
        "colab": {
          "base_uri": "https://localhost:8080/"
        },
        "id": "snpuJJKvmC04",
        "outputId": "61f20a43-b049-4156-c08e-8fcd490f6f24"
      },
      "execution_count": null,
      "outputs": [
        {
          "output_type": "stream",
          "name": "stdout",
          "text": [
            "b is greatest number\n"
          ]
        }
      ]
    },
    {
      "cell_type": "code",
      "source": [
        "a = int(input('Enter the first number:'))\n",
        "b = int(input('Enter the second number:'))\n",
        "\n",
        "if (a>b):\n",
        "  print(\"{} is greater number\".format(a))\n",
        "else:\n",
        "  print(\"{} is greater number\".format(b))"
      ],
      "metadata": {
        "colab": {
          "base_uri": "https://localhost:8080/"
        },
        "id": "uoWp285imoxD",
        "outputId": "fb5544e3-9bce-4b52-e6af-46cfd253c5db"
      },
      "execution_count": null,
      "outputs": [
        {
          "output_type": "stream",
          "name": "stdout",
          "text": [
            "Enter the first number:250\n",
            "Enter the second number:150\n",
            "250 is greater number\n"
          ]
        }
      ]
    },
    {
      "cell_type": "markdown",
      "source": [
        "if elif else statement"
      ],
      "metadata": {
        "id": "RnrFNwONoBey"
      }
    },
    {
      "cell_type": "code",
      "source": [
        "a = 15\n",
        "b = 25\n",
        "c = 30\n",
        "\n",
        "if (b<a>c):\n",
        "  print(\"a is the greatest number\")\n",
        "elif (a<b>c):\n",
        "  print(\"b is the greatest number\")\n",
        "else:\n",
        "  print(\"c is the greatest number\")"
      ],
      "metadata": {
        "colab": {
          "base_uri": "https://localhost:8080/"
        },
        "id": "gluUhz2-oFT4",
        "outputId": "c9b6b288-572e-4adb-fab4-ec592f3737ca"
      },
      "execution_count": null,
      "outputs": [
        {
          "output_type": "stream",
          "name": "stdout",
          "text": [
            "c is the greatest number\n"
          ]
        }
      ]
    },
    {
      "cell_type": "markdown",
      "source": [
        "Nested if statement"
      ],
      "metadata": {
        "id": "WF2hKDx7rIkK"
      }
    },
    {
      "cell_type": "code",
      "source": [
        "a = 20\n",
        "b = 40\n",
        "c = 60\n",
        "\n",
        "if(a>b):                  #identitation matters\n",
        "  if(a>c):\n",
        "    print('a is greatest number')\n",
        "  else:\n",
        "    print('c is greatest number')\n",
        "else:\n",
        "  if(b>c):\n",
        "    print('b is the greatest number')\n",
        "  else:\n",
        "    print('c is the greatest number')\n"
      ],
      "metadata": {
        "colab": {
          "base_uri": "https://localhost:8080/"
        },
        "id": "MzqCSiYvrLgZ",
        "outputId": "f9453cda-aa8f-4717-e102-97267bce00d3"
      },
      "execution_count": null,
      "outputs": [
        {
          "output_type": "stream",
          "name": "stdout",
          "text": [
            "c is the greatest number\n"
          ]
        }
      ]
    }
  ]
}