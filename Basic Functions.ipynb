{
 "cells": [
  {
   "cell_type": "code",
   "execution_count": 1,
   "id": "181a9881",
   "metadata": {},
   "outputs": [],
   "source": [
    "my_str=\"Shantanu Mishra\""
   ]
  },
  {
   "cell_type": "code",
   "execution_count": 4,
   "id": "ab553f72",
   "metadata": {},
   "outputs": [
    {
     "data": {
      "text/plain": [
       "False"
      ]
     },
     "execution_count": 4,
     "metadata": {},
     "output_type": "execute_result"
    }
   ],
   "source": [
    "my_str.isspace()        # Check if characters in a string are whitespaces(Empty Spaces)"
   ]
  },
  {
   "cell_type": "code",
   "execution_count": 3,
   "id": "39143f8d",
   "metadata": {},
   "outputs": [
    {
     "name": "stdout",
     "output_type": "stream",
     "text": [
      "False\n",
      "False\n",
      "False\n",
      "True\n",
      "False\n",
      "False\n",
      "False\n",
      "True\n",
      "True\n"
     ]
    }
   ],
   "source": [
    "print(my_str.isalnum())  #Check if all char are numbers\n",
    "print(my_str.isalpha())  #Check if all char in String are alphabetic\n",
    "print(my_str.isdigit())  #Test if string contains digits\n",
    "print(my_str.istitle())  #Test if string contains title words\n",
    "print(my_str.isupper())  #Check if every char is in Uppercase\n",
    "print(my_str.islower())  #Check if every char is in Lowercase\n",
    "print(my_str.isspace())\n",
    "print(my_str.endswith('a'))  #Test if string ends with a\n",
    "print(my_str.startswith('S')) #Test if string Starts with S"
   ]
  },
  {
   "cell_type": "code",
   "execution_count": 5,
   "id": "90bc0584",
   "metadata": {},
   "outputs": [
    {
     "data": {
      "text/plain": [
       "True"
      ]
     },
     "execution_count": 5,
     "metadata": {},
     "output_type": "execute_result"
    }
   ],
   "source": [
    "True and True"
   ]
  },
  {
   "cell_type": "code",
   "execution_count": 6,
   "id": "342e14f6",
   "metadata": {},
   "outputs": [
    {
     "data": {
      "text/plain": [
       "False"
      ]
     },
     "execution_count": 6,
     "metadata": {},
     "output_type": "execute_result"
    }
   ],
   "source": [
    "True and False"
   ]
  },
  {
   "cell_type": "code",
   "execution_count": 7,
   "id": "4965f1f0",
   "metadata": {},
   "outputs": [
    {
     "data": {
      "text/plain": [
       "False"
      ]
     },
     "execution_count": 7,
     "metadata": {},
     "output_type": "execute_result"
    }
   ],
   "source": [
    "False and False"
   ]
  },
  {
   "cell_type": "code",
   "execution_count": 8,
   "id": "1718ef42",
   "metadata": {},
   "outputs": [
    {
     "data": {
      "text/plain": [
       "True"
      ]
     },
     "execution_count": 8,
     "metadata": {},
     "output_type": "execute_result"
    }
   ],
   "source": [
    "False or True"
   ]
  },
  {
   "cell_type": "code",
   "execution_count": 9,
   "id": "ab1cdeaf",
   "metadata": {},
   "outputs": [],
   "source": [
    "str_example=\"Hello World\"\n",
    "my_str='Shan'"
   ]
  },
  {
   "cell_type": "code",
   "execution_count": 10,
   "id": "12098ad1",
   "metadata": {},
   "outputs": [
    {
     "data": {
      "text/plain": [
       "True"
      ]
     },
     "execution_count": 10,
     "metadata": {},
     "output_type": "execute_result"
    }
   ],
   "source": [
    "my_str.isalpha() or str_example.isnum()"
   ]
  }
 ],
 "metadata": {
  "kernelspec": {
   "display_name": "Python 3 (ipykernel)",
   "language": "python",
   "name": "python3"
  },
  "language_info": {
   "codemirror_mode": {
    "name": "ipython",
    "version": 3
   },
   "file_extension": ".py",
   "mimetype": "text/x-python",
   "name": "python",
   "nbconvert_exporter": "python",
   "pygments_lexer": "ipython3",
   "version": "3.9.13"
  }
 },
 "nbformat": 4,
 "nbformat_minor": 5
}
