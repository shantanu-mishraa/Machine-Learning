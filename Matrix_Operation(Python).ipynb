{
  "nbformat": 4,
  "nbformat_minor": 0,
  "metadata": {
    "colab": {
      "provenance": []
    },
    "kernelspec": {
      "name": "python3",
      "display_name": "Python 3"
    },
    "language_info": {
      "name": "python"
    }
  },
  "cells": [
    {
      "cell_type": "code",
      "execution_count": null,
      "metadata": {
        "id": "ZaZU9p3EMQqd"
      },
      "outputs": [],
      "source": [
        "import numpy as np"
      ]
    },
    {
      "cell_type": "markdown",
      "source": [
        "**Creating a Matrix using Numpy**"
      ],
      "metadata": {
        "id": "yYC1_n10NgaR"
      }
    },
    {
      "cell_type": "code",
      "source": [
        "matrix_1 = np.array([[2,3],[6,7]])\n",
        "print(matrix_1)"
      ],
      "metadata": {
        "colab": {
          "base_uri": "https://localhost:8080/"
        },
        "id": "SxjD8sc_NVTx",
        "outputId": "f4c87003-b3a7-4c4e-b3e6-f37c88f7b96f"
      },
      "execution_count": null,
      "outputs": [
        {
          "output_type": "stream",
          "name": "stdout",
          "text": [
            "[[2 3]\n",
            " [6 7]]\n"
          ]
        }
      ]
    },
    {
      "cell_type": "code",
      "source": [
        "matrix_1.shape"
      ],
      "metadata": {
        "colab": {
          "base_uri": "https://localhost:8080/"
        },
        "id": "sJgyxWl9N3XD",
        "outputId": "7a8e38ac-3e26-4275-a600-1680e2dfd971"
      },
      "execution_count": null,
      "outputs": [
        {
          "output_type": "execute_result",
          "data": {
            "text/plain": [
              "(2, 2)"
            ]
          },
          "metadata": {},
          "execution_count": 3
        }
      ]
    },
    {
      "cell_type": "code",
      "source": [
        "matrix_2 = np.array([[10,35,35],[20,60,80],[10,78,34]])\n",
        "print(matrix_2)\n",
        "print(matrix_2.shape)"
      ],
      "metadata": {
        "colab": {
          "base_uri": "https://localhost:8080/"
        },
        "id": "tUvst1FcOCNd",
        "outputId": "04a29598-c9e4-4131-a9e1-c004f0f6fc56"
      },
      "execution_count": null,
      "outputs": [
        {
          "output_type": "stream",
          "name": "stdout",
          "text": [
            "[[10 35 35]\n",
            " [20 60 80]\n",
            " [10 78 34]]\n",
            "(3, 3)\n"
          ]
        }
      ]
    },
    {
      "cell_type": "code",
      "source": [
        "# creating matrix with random values\n",
        "random_matrix  = np.random.rand(3,3)\n",
        "print(random_matrix)"
      ],
      "metadata": {
        "colab": {
          "base_uri": "https://localhost:8080/"
        },
        "id": "cZEuCeslOd-n",
        "outputId": "9ae21efd-6a85-45d4-92d8-ad8a229f94e7"
      },
      "execution_count": null,
      "outputs": [
        {
          "output_type": "stream",
          "name": "stdout",
          "text": [
            "[[0.57928511 0.98287499 0.28696043]\n",
            " [0.92324953 0.11603716 0.34565945]\n",
            " [0.00748749 0.89882419 0.37974989]]\n"
          ]
        }
      ]
    },
    {
      "cell_type": "code",
      "source": [
        "# creating matrix with random integers\n",
        "random_matrix_1 = np.random.randint(100, size=(4,5))\n",
        "print(random_matrix_1)"
      ],
      "metadata": {
        "colab": {
          "base_uri": "https://localhost:8080/"
        },
        "id": "nFWTxoguOuuJ",
        "outputId": "fceb7001-d003-4aca-9988-920000c5a65d"
      },
      "execution_count": null,
      "outputs": [
        {
          "output_type": "stream",
          "name": "stdout",
          "text": [
            "[[48  6  4  1 13]\n",
            " [17 45 82 58 44]\n",
            " [86 59 68 49 64]\n",
            " [61 51 19 18 94]]\n"
          ]
        }
      ]
    },
    {
      "cell_type": "code",
      "source": [
        "# matrix with all the values as 1\n",
        "matrix_3 = np.ones((6,7), dtype=int)\n",
        "print(matrix_3)"
      ],
      "metadata": {
        "colab": {
          "base_uri": "https://localhost:8080/"
        },
        "id": "PK3bj1JpO3nw",
        "outputId": "7b2acb87-d61d-4772-82a8-664d1e409a59"
      },
      "execution_count": null,
      "outputs": [
        {
          "output_type": "stream",
          "name": "stdout",
          "text": [
            "[[1 1 1 1 1 1 1]\n",
            " [1 1 1 1 1 1 1]\n",
            " [1 1 1 1 1 1 1]\n",
            " [1 1 1 1 1 1 1]\n",
            " [1 1 1 1 1 1 1]\n",
            " [1 1 1 1 1 1 1]]\n"
          ]
        }
      ]
    },
    {
      "cell_type": "code",
      "source": [
        "# null matrix\n",
        "matrix_4 = np.zeros((4,5), dtype=int)\n",
        "print(matrix_4)"
      ],
      "metadata": {
        "colab": {
          "base_uri": "https://localhost:8080/"
        },
        "id": "sUEC5T3tPj9k",
        "outputId": "bc062798-86bd-403c-b4ce-c298821ffdf7"
      },
      "execution_count": null,
      "outputs": [
        {
          "output_type": "stream",
          "name": "stdout",
          "text": [
            "[[0 0 0 0 0]\n",
            " [0 0 0 0 0]\n",
            " [0 0 0 0 0]\n",
            " [0 0 0 0 0]]\n"
          ]
        }
      ]
    },
    {
      "cell_type": "code",
      "source": [
        "# Identity matrix\n",
        "matrix_5 = np.eye(3,3,dtype=int)\n",
        "print(matrix_5)"
      ],
      "metadata": {
        "colab": {
          "base_uri": "https://localhost:8080/"
        },
        "id": "xd-kxaVLP-2n",
        "outputId": "4c45dff7-1bb2-44f5-a52d-a5803418acad"
      },
      "execution_count": null,
      "outputs": [
        {
          "output_type": "stream",
          "name": "stdout",
          "text": [
            "[[1 0 0]\n",
            " [0 1 0]\n",
            " [0 0 1]]\n"
          ]
        }
      ]
    },
    {
      "cell_type": "markdown",
      "source": [
        "**Transpose of a Matrix**"
      ],
      "metadata": {
        "id": "1l_bd81tQZlt"
      }
    },
    {
      "cell_type": "code",
      "source": [
        "# matrix with random integer values\n",
        "a = np.random.randint(100, size=(4,5))\n",
        "print(a)\n",
        "\n",
        "b = a.transpose()\n",
        "print(b)\n",
        "\n",
        "c = np.transpose(a)\n",
        "print(c)"
      ],
      "metadata": {
        "colab": {
          "base_uri": "https://localhost:8080/"
        },
        "id": "YafIqcgGQS_Z",
        "outputId": "225e4893-d38d-48e0-e6f3-e411ad4bdd29"
      },
      "execution_count": null,
      "outputs": [
        {
          "output_type": "stream",
          "name": "stdout",
          "text": [
            "[[31  3 92 33 46]\n",
            " [78  9 62 76 86]\n",
            " [91 77  9 97 90]\n",
            " [40 59 16 13 81]]\n",
            "[[31 78 91 40]\n",
            " [ 3  9 77 59]\n",
            " [92 62  9 16]\n",
            " [33 76 97 13]\n",
            " [46 86 90 81]]\n",
            "[[31 78 91 40]\n",
            " [ 3  9 77 59]\n",
            " [92 62  9 16]\n",
            " [33 76 97 13]\n",
            " [46 86 90 81]]\n"
          ]
        }
      ]
    },
    {
      "cell_type": "markdown",
      "source": [
        "**Matrix Addition and Subtraction:**"
      ],
      "metadata": {
        "id": "1tVbP8jlUjOr"
      }
    },
    {
      "cell_type": "code",
      "source": [
        "# Creating two matrix with same shape\n",
        "\n",
        "a = np.array([[2,3],[4,5]])\n",
        "b = np.array([[10,12],[14,16]])\n",
        "\n",
        "matrix_sum = a+b\n",
        "print(matrix_sum)\n",
        "\n",
        "matrix_difference = a-b\n",
        "print(matrix_difference)"
      ],
      "metadata": {
        "colab": {
          "base_uri": "https://localhost:8080/"
        },
        "id": "z-2zTXYeQvtq",
        "outputId": "1a3e7921-b05a-4f9b-8205-825171b41c18"
      },
      "execution_count": null,
      "outputs": [
        {
          "output_type": "stream",
          "name": "stdout",
          "text": [
            "[[12 15]\n",
            " [18 21]]\n",
            "[[ -8  -9]\n",
            " [-10 -11]]\n"
          ]
        }
      ]
    },
    {
      "cell_type": "code",
      "source": [
        "# matrix with random values\n",
        "matrix_1 = np.random.randint(50, size=(3,4))\n",
        "matrix_2 = np.random.randint(30, size=(3,4))\n",
        "\n",
        "matrix_sum = matrix_1 + matrix_2\n",
        "print(matrix_sum)\n",
        "\n",
        "matrix_difference = matrix_1 - matrix_2\n",
        "print(matrix_difference)"
      ],
      "metadata": {
        "colab": {
          "base_uri": "https://localhost:8080/"
        },
        "id": "5deveCzAVaZk",
        "outputId": "b566a7c3-2d5e-4446-c394-74d49ae91c5b"
      },
      "execution_count": null,
      "outputs": [
        {
          "output_type": "stream",
          "name": "stdout",
          "text": [
            "[[37 75 15 33]\n",
            " [22 40 56 18]\n",
            " [70 31 16 30]]\n",
            "[[ -9  19   5  25]\n",
            " [ 16   4   2  -2]\n",
            " [ 22 -21  -4  30]]\n"
          ]
        }
      ]
    },
    {
      "cell_type": "code",
      "source": [
        "sum = np.add(matrix_1, matrix_2)\n",
        "print(sum)\n",
        "\n",
        "diff = np.subtract(matrix_1,matrix_2)\n",
        "print(diff)"
      ],
      "metadata": {
        "colab": {
          "base_uri": "https://localhost:8080/"
        },
        "id": "p7lNhMmaWlNY",
        "outputId": "c349b62a-ecd2-4dcb-8e30-20dfe5c722bd"
      },
      "execution_count": null,
      "outputs": [
        {
          "output_type": "stream",
          "name": "stdout",
          "text": [
            "[[11 21 63 57]\n",
            " [25 47 35 25]\n",
            " [30 27 45  5]]\n",
            "[[  3 -15  21  31]\n",
            " [ 21  23  11  -7]\n",
            " [ 26  -9  23   5]]\n"
          ]
        }
      ]
    },
    {
      "cell_type": "markdown",
      "source": [
        "**Multiplying a Matrix by Scaler:**"
      ],
      "metadata": {
        "id": "vPtngGM9XdMu"
      }
    },
    {
      "cell_type": "code",
      "source": [
        "x = 5\n",
        "y = np.random.randint(10, size=(4,5))\n",
        "\n",
        "print(y)\n",
        "print(x*y)"
      ],
      "metadata": {
        "colab": {
          "base_uri": "https://localhost:8080/"
        },
        "id": "6stG6MThXPgL",
        "outputId": "353ed894-aff7-4454-881d-d3a08b5dd8c8"
      },
      "execution_count": null,
      "outputs": [
        {
          "output_type": "stream",
          "name": "stdout",
          "text": [
            "[[1 3 1 0 9]\n",
            " [9 0 6 7 7]\n",
            " [4 5 2 3 6]\n",
            " [2 6 8 6 1]]\n",
            "[[ 5 15  5  0 45]\n",
            " [45  0 30 35 35]\n",
            " [20 25 10 15 30]\n",
            " [10 30 40 30  5]]\n"
          ]
        }
      ]
    },
    {
      "cell_type": "markdown",
      "source": [
        "**Multiplication of two Matrices**"
      ],
      "metadata": {
        "id": "SFzjANwIYP8d"
      }
    },
    {
      "cell_type": "code",
      "source": [
        "matrix_3 = np.random.randint(20, size=(3,4))\n",
        "matrix_4 = np.random.randint(15, size=(4,3))\n",
        "\n",
        "product = np.dot(matrix_3,matrix_4)\n",
        "print(product)"
      ],
      "metadata": {
        "colab": {
          "base_uri": "https://localhost:8080/"
        },
        "id": "ZVLsxg4FYG8L",
        "outputId": "9934fb3a-ac57-4ed2-f0e7-3b612ddcaa66"
      },
      "execution_count": null,
      "outputs": [
        {
          "output_type": "stream",
          "name": "stdout",
          "text": [
            "[[313 312 413]\n",
            " [234 349 265]\n",
            " [292 387 521]]\n"
          ]
        }
      ]
    },
    {
      "cell_type": "code",
      "source": [
        "# Element wise matrix multiplication\n",
        "matrix_5 = np.random.randint(50, size=(3,4))\n",
        "matrix_6 = np.random.randint(30, size=(3,4))\n",
        "\n",
        "prod = np.multiply(matrix_5,matrix_6)\n",
        "print(prod)"
      ],
      "metadata": {
        "colab": {
          "base_uri": "https://localhost:8080/"
        },
        "id": "i51SHY1hZjLR",
        "outputId": "5163c70f-e6b6-4bf9-ddf3-8f9abf79c53f"
      },
      "execution_count": null,
      "outputs": [
        {
          "output_type": "stream",
          "name": "stdout",
          "text": [
            "[[ 684   92 1044  378]\n",
            " [ 140  272    3   24]\n",
            " [ 168  164  378   81]]\n"
          ]
        }
      ]
    },
    {
      "cell_type": "code",
      "source": [],
      "metadata": {
        "id": "KrWZo8GQaZ4K"
      },
      "execution_count": null,
      "outputs": []
    }
  ]
}